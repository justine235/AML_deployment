{
 "cells": [
  {
   "cell_type": "code",
   "execution_count": 2,
   "metadata": {},
   "outputs": [],
   "source": [
    "# A partir du texte"
   ]
  },
  {
   "cell_type": "code",
   "execution_count": 1,
   "metadata": {},
   "outputs": [
    {
     "name": "stdout",
     "output_type": "stream",
     "text": [
      "b'{\"response\": \"D\\\\u00e9cris-moi une image d\\\\u2019un chat. Un chat est un animal domestique qui est souvent consid\\\\u00e9r\\\\u00e9 comme un animal de compagnie. Il est g\\\\u00e9n\\\\u00e9ralement petit et agile, avec un pelage doux et une queue longue. Les chats ont des yeux grands et expressifs, avec des couleurs vari\\\\u00e9es, comme le bleu, le vert, le marron et le gris. Ils ont \\\\u00e9galement des oreilles pointues et mobiles, qui leur permettent de d\\\\u00e9tecter les sons et les mouvements. Les chats sont connus pour leur intelligence et leur curiosit\\\\u00e9, et ils sont souvent tr\\\\u00e8s actifs et joueurs. Ils peuvent\"}'\n"
     ]
    }
   ],
   "source": [
    "import urllib.request\n",
    "import json\n",
    "import os\n",
    "import ssl\n",
    "\n",
    "def allowSelfSignedHttps(allowed):\n",
    "    # bypass the server certificate verification on client side\n",
    "    if allowed and not os.environ.get('PYTHONHTTPSVERIFY', '') and getattr(ssl, '_create_unverified_context', None):\n",
    "        ssl._create_default_https_context = ssl._create_unverified_context\n",
    "\n",
    "allowSelfSignedHttps(True) # this line is needed if you use self-signed certificate in your scoring service.\n",
    "\n",
    "# Request data goes here\n",
    "# The example below assumes JSON formatting which may be updated\n",
    "# depending on the format your endpoint expects.\n",
    "# More information can be found here:\n",
    "# https://docs.microsoft.com/azure/machine-learning/how-to-deploy-advanced-entry-script\n",
    "data = {\n",
    "  \"prompt\": \"Décris-moi une image d’un chat.\"\n",
    "}\n",
    "body = str.encode(json.dumps(data))\n",
    "\n",
    "url = 'https://mlw-mlopsdemo-0001prod-bbuma.eastus.inference.ml.azure.com/score'\n",
    "# Replace this with the primary/secondary key, AMLToken, or Microsoft Entra ID token for the endpoint\n",
    "api_key = ''\n",
    "if not api_key:\n",
    "    raise Exception(\"A key should be provided to invoke the endpoint\")\n",
    "\n",
    "\n",
    "headers = {'Content-Type':'application/json', 'Authorization':('Bearer '+ api_key)}\n",
    "\n",
    "req = urllib.request.Request(url, body, headers)\n",
    "\n",
    "try:\n",
    "    response = urllib.request.urlopen(req)\n",
    "\n",
    "    result = response.read()\n",
    "    print(result)\n",
    "except urllib.error.HTTPError as error:\n",
    "    print(\"The request failed with status code: \" + str(error.code))\n",
    "\n",
    "    # Print the headers - they include the requert ID and the timestamp, which are useful for debugging the failure\n",
    "    print(error.info())\n",
    "    print(error.read().decode(\"utf8\", 'ignore'))"
   ]
  },
  {
   "cell_type": "code",
   "execution_count": 3,
   "metadata": {},
   "outputs": [],
   "source": [
    "# A partir d'image"
   ]
  },
  {
   "cell_type": "code",
   "execution_count": 8,
   "metadata": {},
   "outputs": [
    {
     "data": {
      "text/plain": [
       "['Inference.ipynb']"
      ]
     },
     "execution_count": 8,
     "metadata": {},
     "output_type": "execute_result"
    }
   ],
   "source": [
    "os.listdir()"
   ]
  },
  {
   "cell_type": "code",
   "execution_count": 11,
   "metadata": {},
   "outputs": [
    {
     "name": "stdout",
     "output_type": "stream",
     "text": [
      "La requête a échoué avec le code : 408\n",
      "x-request-id: 4063160d-5321-4c7b-96e9-4a6fc3540517\n",
      "content-type: text/plain\n",
      "date: Wed, 29 Jan 2025 20:55:37 GMT\n",
      "server: azureml-frontdoor\n",
      "azureml-model-deployment: qwen2-vl-1\n",
      "azureml-model-session: qwen2-vl-1\n",
      "content-length: 220\n",
      "connection: close\n",
      "\n",
      "\n",
      "upstream request timeout\n",
      "Please check this guide to understand why this error code might have been returned \n",
      "https://docs.microsoft.com/en-us/azure/machine-learning/how-to-troubleshoot-online-endpoints#http-status-codes\n",
      "\n"
     ]
    }
   ],
   "source": [
    "import urllib.request\n",
    "import json\n",
    "import os\n",
    "import ssl\n",
    "import base64\n",
    "\n",
    "\n",
    "def allowSelfSignedHttps(allowed):\n",
    "    # Bypass the certificat SSL si nécessaire\n",
    "    if allowed and not os.environ.get('PYTHONHTTPSVERIFY', '') and getattr(ssl, '_create_unverified_context', None):\n",
    "        ssl._create_default_https_context = ssl._create_unverified_context\n",
    "\n",
    "allowSelfSignedHttps(True)  # Activer pour éviter les erreurs de certificat auto-signé\n",
    "\n",
    "# Charger l'image et encoder en base64\n",
    "image_path = \"../avion.jpg\"  \n",
    "with open(image_path, \"rb\") as image_file:\n",
    "    base64_image = base64.b64encode(image_file.read()).decode(\"utf-8\")\n",
    "\n",
    "# Construire la requête JSON\n",
    "data = {\n",
    "    \"image\": base64_image,\n",
    "    \"prompt\": \"Décris cette image en français.\"\n",
    "}\n",
    "body = json.dumps(data).encode(\"utf-8\")\n",
    "\n",
    "url = \"https://mlw-mlopsdemo-0001prod-bbuma.eastus.inference.ml.azure.com/score\"\n",
    "\n",
    "\n",
    "api_key = \"\"\n",
    "if not api_key:\n",
    "    raise Exception(\"Une clé API est requise pour invoquer l'endpoint.\")\n",
    "\n",
    "headers = {\n",
    "    \"Content-Type\": \"application/json\",\n",
    "    \"Authorization\": \"Bearer \" + api_key\n",
    "}\n",
    "\n",
    "\n",
    "req = urllib.request.Request(url, body, headers)\n",
    "\n",
    "try:\n",
    "    response = urllib.request.urlopen(req)\n",
    "\n",
    "    \n",
    "    result = response.read()\n",
    "    print(\"Réponse du modèle :\", result.decode(\"utf-8\"))\n",
    "\n",
    "except urllib.error.HTTPError as error:\n",
    "    print(\"La requête a échoué avec le code :\", str(error.code))\n",
    "\n",
    "    # Debugging : afficher les headers et le message d'erreur\n",
    "    print(error.info())\n",
    "    print(error.read().decode(\"utf8\", \"ignore\"))\n"
   ]
  }
 ],
 "metadata": {
  "kernelspec": {
   "display_name": "azureml_py38",
   "language": "python",
   "name": "python3"
  },
  "language_info": {
   "codemirror_mode": {
    "name": "ipython",
    "version": 3
   },
   "file_extension": ".py",
   "mimetype": "text/x-python",
   "name": "python",
   "nbconvert_exporter": "python",
   "pygments_lexer": "ipython3",
   "version": "3.10.11"
  }
 },
 "nbformat": 4,
 "nbformat_minor": 2
}
